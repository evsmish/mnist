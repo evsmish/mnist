{
 "cells": [
  {
   "cell_type": "code",
   "execution_count": 1,
   "id": "e231c8d0",
   "metadata": {
    "execution": {
     "iopub.execute_input": "2023-02-27T15:28:12.770763Z",
     "iopub.status.busy": "2023-02-27T15:28:12.769917Z",
     "iopub.status.idle": "2023-02-27T15:28:15.186398Z",
     "shell.execute_reply": "2023-02-27T15:28:15.185207Z"
    },
    "papermill": {
     "duration": 2.429934,
     "end_time": "2023-02-27T15:28:15.190143",
     "exception": false,
     "start_time": "2023-02-27T15:28:12.760209",
     "status": "completed"
    },
    "tags": []
   },
   "outputs": [],
   "source": [
    "import warnings\n",
    "\n",
    "import matplotlib.pyplot as plt\n",
    "import numpy as np\n",
    "import pandas as pd\n",
    "import torch\n",
    "import torch.nn as nn\n",
    "import torchvision.transforms as T\n",
    "from torch.utils.data import DataLoader, TensorDataset\n",
    "from sklearn.model_selection import train_test_split\n",
    "\n",
    "from IPython.display import clear_output\n",
    "from tqdm import tqdm\n",
    "\n",
    "warnings.filterwarnings('ignore')\n",
    "\n",
    "plt.rc('font', size=30)"
   ]
  },
  {
   "cell_type": "code",
   "execution_count": 2,
   "id": "aad067fa",
   "metadata": {
    "execution": {
     "iopub.execute_input": "2023-02-27T15:28:15.204323Z",
     "iopub.status.busy": "2023-02-27T15:28:15.203617Z",
     "iopub.status.idle": "2023-02-27T15:28:18.741179Z",
     "shell.execute_reply": "2023-02-27T15:28:18.740143Z"
    },
    "papermill": {
     "duration": 3.547156,
     "end_time": "2023-02-27T15:28:18.743674",
     "exception": false,
     "start_time": "2023-02-27T15:28:15.196518",
     "status": "completed"
    },
    "tags": []
   },
   "outputs": [],
   "source": [
    "train_data = pd.read_csv('/kaggle/input/digit-recognizer/train.csv',dtype = 'float32')"
   ]
  },
  {
   "cell_type": "code",
   "execution_count": 3,
   "id": "66495a6e",
   "metadata": {
    "execution": {
     "iopub.execute_input": "2023-02-27T15:28:18.754000Z",
     "iopub.status.busy": "2023-02-27T15:28:18.752293Z",
     "iopub.status.idle": "2023-02-27T15:28:19.168395Z",
     "shell.execute_reply": "2023-02-27T15:28:19.167418Z"
    },
    "papermill": {
     "duration": 0.423252,
     "end_time": "2023-02-27T15:28:19.170765",
     "exception": false,
     "start_time": "2023-02-27T15:28:18.747513",
     "status": "completed"
    },
    "tags": []
   },
   "outputs": [],
   "source": [
    "X = train_data.drop('label', axis=1).values/255\n",
    "y = train_data['label'].values\n",
    "\n",
    "X_train, X_valid, y_train, y_valid = train_test_split(X, y, test_size = 0.2, random_state = 42)\n",
    "\n",
    "X_train = torch.reshape(torch.from_numpy(X_train),(X_train.shape[0],1,28,28))\n",
    "y_train = torch.from_numpy(y_train).type(torch.LongTensor) \n",
    "X_valid = torch.reshape(torch.from_numpy(X_valid),(X_valid.shape[0],1,28,28))\n",
    "y_valid = torch.from_numpy(y_valid).type(torch.LongTensor) \n",
    "\n",
    "train = TensorDataset(X_train,y_train)\n",
    "valid = TensorDataset(X_valid,y_valid)\n",
    "\n",
    "\n",
    "train_loader = DataLoader(train, batch_size=64, shuffle = True)\n",
    "valid_loader = DataLoader(valid, batch_size=64, shuffle = False)"
   ]
  },
  {
   "cell_type": "code",
   "execution_count": 4,
   "id": "77640f7b",
   "metadata": {
    "execution": {
     "iopub.execute_input": "2023-02-27T15:28:19.180609Z",
     "iopub.status.busy": "2023-02-27T15:28:19.179113Z",
     "iopub.status.idle": "2023-02-27T15:28:19.186508Z",
     "shell.execute_reply": "2023-02-27T15:28:19.185666Z"
    },
    "papermill": {
     "duration": 0.013712,
     "end_time": "2023-02-27T15:28:19.188311",
     "exception": false,
     "start_time": "2023-02-27T15:28:19.174599",
     "status": "completed"
    },
    "tags": []
   },
   "outputs": [],
   "source": [
    "def train(model: nn.Module) -> float:\n",
    "    model.train()\n",
    "\n",
    "    train_loss = 0\n",
    "\n",
    "    for x, y in tqdm(train_loader, desc='Train'):\n",
    "        \n",
    "        x, y = x.to(device), y.to(device)\n",
    "        \n",
    "        optimizer.zero_grad()\n",
    "\n",
    "        output = model(x)\n",
    "\n",
    "        loss = loss_fn(output, y)\n",
    "\n",
    "        train_loss += loss.item()\n",
    "\n",
    "        loss.backward()\n",
    "\n",
    "        optimizer.step()\n",
    "\n",
    "    train_loss /= len(train_loader)\n",
    "    \n",
    "    return train_loss\n"
   ]
  },
  {
   "cell_type": "code",
   "execution_count": 5,
   "id": "da9796a5",
   "metadata": {
    "execution": {
     "iopub.execute_input": "2023-02-27T15:28:19.197607Z",
     "iopub.status.busy": "2023-02-27T15:28:19.196966Z",
     "iopub.status.idle": "2023-02-27T15:28:19.204630Z",
     "shell.execute_reply": "2023-02-27T15:28:19.203816Z"
    },
    "papermill": {
     "duration": 0.014406,
     "end_time": "2023-02-27T15:28:19.206563",
     "exception": false,
     "start_time": "2023-02-27T15:28:19.192157",
     "status": "completed"
    },
    "tags": []
   },
   "outputs": [],
   "source": [
    "@torch.inference_mode()\n",
    "def evaluate(model: nn.Module, loader: DataLoader):\n",
    "    model.eval()\n",
    "\n",
    "    total_loss = 0\n",
    "    total = 0\n",
    "    correct = 0\n",
    "\n",
    "    for x, y in tqdm(loader, desc='Evaluation'):\n",
    "        \n",
    "        x, y = x.to(device), y.to(device)\n",
    "        \n",
    "        output = model(x)\n",
    "\n",
    "        loss = loss_fn(output, y)\n",
    "\n",
    "        total_loss += loss.item()\n",
    "\n",
    "        _, y_pred = torch.max(output, 1)\n",
    "        total += y.size(0)\n",
    "        correct += (y_pred == y).sum().item()\n",
    "\n",
    "    total_loss /= len(loader)\n",
    "    accuracy = correct / total\n",
    "\n",
    "    return total_loss, accuracy"
   ]
  },
  {
   "cell_type": "code",
   "execution_count": 6,
   "id": "97a7ab3b",
   "metadata": {
    "execution": {
     "iopub.execute_input": "2023-02-27T15:28:19.215176Z",
     "iopub.status.busy": "2023-02-27T15:28:19.214413Z",
     "iopub.status.idle": "2023-02-27T15:28:19.219554Z",
     "shell.execute_reply": "2023-02-27T15:28:19.218656Z"
    },
    "papermill": {
     "duration": 0.011607,
     "end_time": "2023-02-27T15:28:19.221618",
     "exception": false,
     "start_time": "2023-02-27T15:28:19.210011",
     "status": "completed"
    },
    "tags": []
   },
   "outputs": [],
   "source": [
    "def plot_stats(valid_accuracy: []):\n",
    "\n",
    "    plt.figure(figsize=(16, 8))\n",
    "\n",
    "    plt.plot(valid_accuracy)\n",
    "    plt.grid()\n",
    "\n",
    "    plt.show()"
   ]
  },
  {
   "cell_type": "code",
   "execution_count": 7,
   "id": "7f452582",
   "metadata": {
    "execution": {
     "iopub.execute_input": "2023-02-27T15:28:19.229533Z",
     "iopub.status.busy": "2023-02-27T15:28:19.229277Z",
     "iopub.status.idle": "2023-02-27T15:28:19.244221Z",
     "shell.execute_reply": "2023-02-27T15:28:19.243393Z"
    },
    "papermill": {
     "duration": 0.021183,
     "end_time": "2023-02-27T15:28:19.246203",
     "exception": false,
     "start_time": "2023-02-27T15:28:19.225020",
     "status": "completed"
    },
    "tags": []
   },
   "outputs": [],
   "source": [
    "my_model = nn.Sequential(\n",
    "    nn.Conv2d(in_channels=1, out_channels=32, kernel_size=5), \n",
    "    nn.LeakyReLU(0.05),\n",
    "    nn.MaxPool2d(kernel_size=2),\n",
    "    nn.BatchNorm2d(32),\n",
    "\n",
    "    nn.Conv2d(in_channels=32, out_channels=64, kernel_size=5),\n",
    "    nn.LeakyReLU(0.05),\n",
    "    nn.MaxPool2d(kernel_size=2),\n",
    "    nn.BatchNorm2d(64),\n",
    "    nn.Dropout(0.5),\n",
    "\n",
    "    nn.Flatten(),\n",
    "    nn.Linear(4*4*64,392),\n",
    "    nn.LeakyReLU(0.05),\n",
    "    nn.Linear(392,196),\n",
    "    nn.LeakyReLU(0.05),\n",
    "    nn.Linear(196,49),\n",
    "    nn.LeakyReLU(0.05),\n",
    "    nn.Linear(49,10),\n",
    "    nn.LogSoftmax(dim = 1))\n",
    "\n",
    "\n",
    "# optimizer = torch.optim.Adam(my_model.parameters(), lr=0.1)\n",
    "optimizer = torch.optim.SGD(my_model.parameters(), lr=0.1, momentum=0.9)\n",
    "\n",
    "loss_fn = nn.CrossEntropyLoss()\n",
    "scheduler = torch.optim.lr_scheduler.CyclicLR(optimizer, base_lr=0.01, max_lr=0.1)"
   ]
  },
  {
   "cell_type": "code",
   "execution_count": 8,
   "id": "8faf8f7d",
   "metadata": {
    "execution": {
     "iopub.execute_input": "2023-02-27T15:28:19.254286Z",
     "iopub.status.busy": "2023-02-27T15:28:19.254019Z",
     "iopub.status.idle": "2023-02-27T15:28:19.309249Z",
     "shell.execute_reply": "2023-02-27T15:28:19.308318Z"
    },
    "papermill": {
     "duration": 0.061715,
     "end_time": "2023-02-27T15:28:19.311454",
     "exception": false,
     "start_time": "2023-02-27T15:28:19.249739",
     "status": "completed"
    },
    "tags": []
   },
   "outputs": [],
   "source": [
    "device = torch.device(\"cuda:0\" if torch.cuda.is_available() else \"cpu\")"
   ]
  },
  {
   "cell_type": "code",
   "execution_count": 9,
   "id": "38355f69",
   "metadata": {
    "execution": {
     "iopub.execute_input": "2023-02-27T15:28:19.320177Z",
     "iopub.status.busy": "2023-02-27T15:28:19.319624Z",
     "iopub.status.idle": "2023-02-27T15:28:21.850476Z",
     "shell.execute_reply": "2023-02-27T15:28:21.849356Z"
    },
    "papermill": {
     "duration": 2.538002,
     "end_time": "2023-02-27T15:28:21.853109",
     "exception": false,
     "start_time": "2023-02-27T15:28:19.315107",
     "status": "completed"
    },
    "tags": []
   },
   "outputs": [],
   "source": [
    "my_model = my_model.to(device)"
   ]
  },
  {
   "cell_type": "code",
   "execution_count": 10,
   "id": "11ce6f6b",
   "metadata": {
    "execution": {
     "iopub.execute_input": "2023-02-27T15:28:21.863298Z",
     "iopub.status.busy": "2023-02-27T15:28:21.861732Z",
     "iopub.status.idle": "2023-02-27T15:29:08.730140Z",
     "shell.execute_reply": "2023-02-27T15:29:08.728845Z"
    },
    "papermill": {
     "duration": 46.876077,
     "end_time": "2023-02-27T15:29:08.732928",
     "exception": false,
     "start_time": "2023-02-27T15:28:21.856851",
     "status": "completed"
    },
    "tags": []
   },
   "outputs": [
    {
     "data": {
      "image/png": "[encoded data removed]",
      "text/plain": [
       "<Figure size 1152x576 with 1 Axes>"
      ]
     },
     "metadata": {
      "needs_background": "light"
     },
     "output_type": "display_data"
    }
   ],
   "source": [
    "num_epochs = 20\n",
    "\n",
    "train_loss_history, valid_loss_history = [], []\n",
    "valid_accuracy_history = []\n",
    "\n",
    "for epoch in range(num_epochs):\n",
    "    train_loss = train(my_model)\n",
    "\n",
    "    valid_loss, valid_accuracy = evaluate(my_model, valid_loader)\n",
    "\n",
    "    train_loss_history.append(train_loss)\n",
    "    valid_loss_history.append(valid_loss)\n",
    "    valid_accuracy_history.append(valid_accuracy)\n",
    "\n",
    "    clear_output()\n",
    "\n",
    "    plot_stats(valid_accuracy_history) \n",
    "    \n",
    "    scheduler.step()"
   ]
  },
  {
   "cell_type": "code",
   "execution_count": 11,
   "id": "5d862415",
   "metadata": {
    "execution": {
     "iopub.execute_input": "2023-02-27T15:29:08.742711Z",
     "iopub.status.busy": "2023-02-27T15:29:08.742412Z",
     "iopub.status.idle": "2023-02-27T15:29:10.782915Z",
     "shell.execute_reply": "2023-02-27T15:29:10.781945Z"
    },
    "papermill": {
     "duration": 2.047942,
     "end_time": "2023-02-27T15:29:10.785320",
     "exception": false,
     "start_time": "2023-02-27T15:29:08.737378",
     "status": "completed"
    },
    "tags": []
   },
   "outputs": [],
   "source": [
    "test_data = pd.read_csv('/kaggle/input/digit-recognizer/test.csv',dtype = 'float32')"
   ]
  },
  {
   "cell_type": "code",
   "execution_count": 12,
   "id": "5a16b233",
   "metadata": {
    "execution": {
     "iopub.execute_input": "2023-02-27T15:29:10.795010Z",
     "iopub.status.busy": "2023-02-27T15:29:10.794689Z",
     "iopub.status.idle": "2023-02-27T15:29:10.846075Z",
     "shell.execute_reply": "2023-02-27T15:29:10.845096Z"
    },
    "papermill": {
     "duration": 0.058853,
     "end_time": "2023-02-27T15:29:10.848599",
     "exception": false,
     "start_time": "2023-02-27T15:29:10.789746",
     "status": "completed"
    },
    "tags": []
   },
   "outputs": [],
   "source": [
    "X_test = torch.reshape(torch.from_numpy(test_data.values/255),(test_data.shape[0],1,28,28)).cuda()"
   ]
  },
  {
   "cell_type": "code",
   "execution_count": 13,
   "id": "3ecbbc8c",
   "metadata": {
    "execution": {
     "iopub.execute_input": "2023-02-27T15:29:10.858502Z",
     "iopub.status.busy": "2023-02-27T15:29:10.858201Z",
     "iopub.status.idle": "2023-02-27T15:29:11.638109Z",
     "shell.execute_reply": "2023-02-27T15:29:11.637141Z"
    },
    "papermill": {
     "duration": 0.787424,
     "end_time": "2023-02-27T15:29:11.640454",
     "exception": false,
     "start_time": "2023-02-27T15:29:10.853030",
     "status": "completed"
    },
    "tags": []
   },
   "outputs": [],
   "source": [
    "predictions = my_model(X_test)\n",
    "\n",
    "preds = []\n",
    "for i in range(predictions.size()[0]):\n",
    "    preds.append(torch.argmax(predictions[i]).item())"
   ]
  },
  {
   "cell_type": "code",
   "execution_count": 14,
   "id": "991c8747",
   "metadata": {
    "execution": {
     "iopub.execute_input": "2023-02-27T15:29:11.651818Z",
     "iopub.status.busy": "2023-02-27T15:29:11.650085Z",
     "iopub.status.idle": "2023-02-27T15:29:11.670711Z",
     "shell.execute_reply": "2023-02-27T15:29:11.669855Z"
    },
    "papermill": {
     "duration": 0.02804,
     "end_time": "2023-02-27T15:29:11.672877",
     "exception": false,
     "start_time": "2023-02-27T15:29:11.644837",
     "status": "completed"
    },
    "tags": []
   },
   "outputs": [],
   "source": [
    "answer = pd.DataFrame({'ImageId' : [i for i in range(28000)],\n",
    "                                 'Label' : preds}).set_index('ImageId')"
   ]
  },
  {
   "cell_type": "code",
   "execution_count": 15,
   "id": "21c1f3a7",
   "metadata": {
    "execution": {
     "iopub.execute_input": "2023-02-27T15:29:11.682422Z",
     "iopub.status.busy": "2023-02-27T15:29:11.682132Z",
     "iopub.status.idle": "2023-02-27T15:29:11.697996Z",
     "shell.execute_reply": "2023-02-27T15:29:11.692732Z"
    },
    "papermill": {
     "duration": 0.025417,
     "end_time": "2023-02-27T15:29:11.702566",
     "exception": false,
     "start_time": "2023-02-27T15:29:11.677149",
     "status": "completed"
    },
    "tags": []
   },
   "outputs": [],
   "source": [
    "answer = answer.reset_index()\n",
    "answer['ImageId'] = answer['ImageId'] + 1\n",
    "answer = answer.set_index('ImageId')\n",
    "\n",
    "# answer.to_csv('mnist.csv')"
   ]
  }
 ],
 "metadata": {
  "kernelspec": {
   "display_name": "Python 3",
   "language": "python",
   "name": "python3"
  },
  "language_info": {
   "codemirror_mode": {
    "name": "ipython",
    "version": 3
   },
   "file_extension": ".py",
   "mimetype": "text/x-python",
   "name": "python",
   "nbconvert_exporter": "python",
   "pygments_lexer": "ipython3",
   "version": "3.7.12"
  },
  "papermill": {
   "default_parameters": {},
   "duration": 68.139433,
   "end_time": "2023-02-27T15:29:13.237285",
   "environment_variables": {},
   "exception": null,
   "input_path": "__notebook__.ipynb",
   "output_path": "__notebook__.ipynb",
   "parameters": {},
   "start_time": "2023-02-27T15:28:05.097852",
   "version": "2.3.4"
  }
 },
 "nbformat": 4,
 "nbformat_minor": 5
}
